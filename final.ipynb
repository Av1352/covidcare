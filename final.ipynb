{
  "nbformat": 4,
  "nbformat_minor": 0,
  "metadata": {
    "colab": {
      "name": "final.ipynb",
      "provenance": [],
      "collapsed_sections": []
    },
    "kernelspec": {
      "name": "python3",
      "display_name": "Python 3"
    }
  },
  "cells": [
    {
      "cell_type": "code",
      "metadata": {
        "id": "ucfGTTQEa3Y6",
        "colab_type": "code",
        "colab": {}
      },
      "source": [
        "def temp_check():\n",
        "  temp = float(input(\"checking for temperature:\"))\n",
        "\n",
        "  if (temp>98.00):\n",
        "        return 1\n",
        "  else:\n",
        "        return 0\n"
      ],
      "execution_count": 4,
      "outputs": []
    },
    {
      "cell_type": "code",
      "metadata": {
        "id": "wsPi_Mmwb0B7",
        "colab_type": "code",
        "colab": {
          "base_uri": "https://localhost:8080/",
          "height": 52
        },
        "outputId": "64cd543c-505c-4760-e083-6edf2d49e6c6"
      },
      "source": [
        "result1 = print(temp_check())"
      ],
      "execution_count": 5,
      "outputs": [
        {
          "output_type": "stream",
          "text": [
            "checking for temperature:99\n",
            "1\n"
          ],
          "name": "stdout"
        }
      ]
    },
    {
      "cell_type": "code",
      "metadata": {
        "id": "NjV6bQMJbUSR",
        "colab_type": "code",
        "colab": {}
      },
      "source": [
        "def oxymeter():\n",
        "\n",
        "  age = int(input(\"Enter the age:\")) #age\n",
        "  spo2 = int(input(\"Enter the spo2 reading:\"))  \n",
        "  pr = int(input(\"Enter the pulse reading:\")) #pulse rate\n",
        "\n",
        "\n",
        "  if (age<=15):\n",
        "      if (spo2>=95&pr>=70):\n",
        "        return 0\n",
        "      else:\n",
        "        return 1\n",
        "  elif (age>15):\n",
        "      if (spo2>=95&pr>=60):\n",
        "        return 0\n",
        "      else:\n",
        "        return 1  "
      ],
      "execution_count": 6,
      "outputs": []
    },
    {
      "cell_type": "code",
      "metadata": {
        "id": "O-iLFfewFvLy",
        "colab_type": "code",
        "colab": {
          "base_uri": "https://localhost:8080/",
          "height": 87
        },
        "outputId": "81039fc4-5e60-407c-be45-b11c692fb8a9"
      },
      "source": [
        "result2 = print(oxymeter())"
      ],
      "execution_count": 7,
      "outputs": [
        {
          "output_type": "stream",
          "text": [
            "Enter the age:18\n",
            "Enter the spo2 reading:89\n",
            "Enter the pulse reading:62\n",
            "1\n"
          ],
          "name": "stdout"
        }
      ]
    },
    {
      "cell_type": "code",
      "metadata": {
        "id": "75b99S-jkINp",
        "colab_type": "code",
        "colab": {}
      },
      "source": [
        "def pneumonia():\n",
        "    \n",
        "  import sys\n",
        "  from os import makedirs \n",
        "  from os import listdir\n",
        "  from shutil import copyfile\n",
        "  from matplotlib import pyplot\n",
        "  from tensorflow import keras\n",
        "  from tensorflow.keras.models import Sequential\n",
        "  from tensorflow.keras.layers import Conv2D\n",
        "  from tensorflow.keras.layers import MaxPooling2D\n",
        "  from tensorflow.keras.layers import Dropout\n",
        "  from tensorflow.keras.optimizers import SGD\n",
        "  from tensorflow.keras.utils import to_categorical\n",
        "  from tensorflow.keras.applications.vgg16 import VGG16\n",
        "  from tensorflow.keras.models import Model\n",
        "  from tensorflow.keras.layers import Dense\n",
        "  from tensorflow.keras.layers import Flatten\n",
        "  from tensorflow.keras.preprocessing.image import ImageDataGenerator\n",
        "  from tensorflow.keras.preprocessing.image import load_img\n",
        "  from tensorflow.keras.preprocessing.image import img_to_array\n",
        "  from tensorflow.keras.models import load_model\n",
        "  def load_image(filename):\n",
        "\t  # load the image\n",
        "\t  img = load_img(filename, target_size=(224, 224))\n",
        "\t  # convert to array\n",
        "\t  img = img_to_array(img)\n",
        "\t  # reshape into a single sample with 3 channels\n",
        "\t  img = img.reshape(1, 224, 224, 3)\n",
        "\t  # center pixel data\n",
        "\t  img = img.astype('float32')\n",
        "\t  img = img - [123.68, 116.779, 103.939]\n",
        "\t  return img\n",
        "  def run_example():\n",
        "    img = load_image('/content/NORMAL (6).jpeg')\n",
        "    model = load_model('/content/keras_model.h5')\n",
        "    result1 = model.predict(img)\n",
        "    list1=result1.tolist()\n",
        "    value=float(list1[0][1])\n",
        "    result=format(value,'.8f')\n",
        "    x = result.split(\".\",1)\n",
        "    y=int(int(x[1]))\n",
        "    print(y)\n",
        "    print(type(y))\n",
        "    print(result1)\n",
        "\n",
        "  run_example()"
      ],
      "execution_count": 8,
      "outputs": []
    },
    {
      "cell_type": "code",
      "metadata": {
        "id": "RO61FOuik9pE",
        "colab_type": "code",
        "colab": {}
      },
      "source": [
        "if((result1==1 and result2==1) or (result1==0 and result2==1)):\n",
        "  x = pnuemonia()\n",
        "\n"
      ],
      "execution_count": 12,
      "outputs": []
    },
    {
      "cell_type": "code",
      "metadata": {
        "id": "nvCqDlb0ldfe",
        "colab_type": "code",
        "colab": {
          "base_uri": "https://localhost:8080/",
          "height": 132
        },
        "outputId": "01cfe9ff-f00d-4c19-e976-824fdbba9454"
      },
      "source": [
        "if(x==1 and result2==1)\n",
        "  print(\"please do get a covid-19 test performed\")\n",
        "else\n",
        "  print(\"thank you for getting yourself tested . have a nice day :)\")"
      ],
      "execution_count": 15,
      "outputs": [
        {
          "output_type": "error",
          "ename": "SyntaxError",
          "evalue": "ignored",
          "traceback": [
            "\u001b[0;36m  File \u001b[0;32m\"<ipython-input-15-23e23f0f5426>\"\u001b[0;36m, line \u001b[0;32m1\u001b[0m\n\u001b[0;31m    if(x==1 and result2==1)\u001b[0m\n\u001b[0m                           ^\u001b[0m\n\u001b[0;31mSyntaxError\u001b[0m\u001b[0;31m:\u001b[0m invalid syntax\n"
          ]
        }
      ]
    }
  ]
}